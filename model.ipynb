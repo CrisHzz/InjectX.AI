{
 "cells": [
  {
   "cell_type": "markdown",
   "metadata": {},
   "source": [
    "# InjectX AI"
   ]
  },
  {
   "cell_type": "code",
   "execution_count": 3,
   "metadata": {},
   "outputs": [],
   "source": [
    "import pandas as pd\n",
    "import numpy as np\n",
    "import tensorflow as tf\n"
   ]
  },
  {
   "cell_type": "code",
   "execution_count": 5,
   "metadata": {},
   "outputs": [
    {
     "data": {
      "text/html": [
       "<div>\n",
       "<style scoped>\n",
       "    .dataframe tbody tr th:only-of-type {\n",
       "        vertical-align: middle;\n",
       "    }\n",
       "\n",
       "    .dataframe tbody tr th {\n",
       "        vertical-align: top;\n",
       "    }\n",
       "\n",
       "    .dataframe thead th {\n",
       "        text-align: right;\n",
       "    }\n",
       "</style>\n",
       "<table border=\"1\" class=\"dataframe\">\n",
       "  <thead>\n",
       "    <tr style=\"text-align: right;\">\n",
       "      <th></th>\n",
       "      <th>Timestamp</th>\n",
       "      <th>Key</th>\n",
       "      <th>Interval_ms</th>\n",
       "      <th>Chars_per_Second</th>\n",
       "      <th>Error_Count</th>\n",
       "      <th>is_human</th>\n",
       "    </tr>\n",
       "  </thead>\n",
       "  <tbody>\n",
       "    <tr>\n",
       "      <th>0</th>\n",
       "      <td>28/10/2024 18:46</td>\n",
       "      <td>[CMD (WINDOWS)]</td>\n",
       "      <td>0</td>\n",
       "      <td>0</td>\n",
       "      <td>0</td>\n",
       "      <td>0</td>\n",
       "    </tr>\n",
       "    <tr>\n",
       "      <th>1</th>\n",
       "      <td>28/10/2024 18:46</td>\n",
       "      <td>r</td>\n",
       "      <td>1</td>\n",
       "      <td>1000</td>\n",
       "      <td>0</td>\n",
       "      <td>0</td>\n",
       "    </tr>\n",
       "    <tr>\n",
       "      <th>2</th>\n",
       "      <td>28/10/2024 18:46</td>\n",
       "      <td>p</td>\n",
       "      <td>407,3</td>\n",
       "      <td>2,46</td>\n",
       "      <td>0</td>\n",
       "      <td>0</td>\n",
       "    </tr>\n",
       "    <tr>\n",
       "      <th>3</th>\n",
       "      <td>28/10/2024 18:46</td>\n",
       "      <td>o</td>\n",
       "      <td>17</td>\n",
       "      <td>58,82</td>\n",
       "      <td>0</td>\n",
       "      <td>0</td>\n",
       "    </tr>\n",
       "    <tr>\n",
       "      <th>4</th>\n",
       "      <td>28/10/2024 18:46</td>\n",
       "      <td>w</td>\n",
       "      <td>15</td>\n",
       "      <td>66,67</td>\n",
       "      <td>0</td>\n",
       "      <td>0</td>\n",
       "    </tr>\n",
       "  </tbody>\n",
       "</table>\n",
       "</div>"
      ],
      "text/plain": [
       "          Timestamp              Key Interval_ms Chars_per_Second  \\\n",
       "0  28/10/2024 18:46  [CMD (WINDOWS)]           0                0   \n",
       "1  28/10/2024 18:46                r           1             1000   \n",
       "2  28/10/2024 18:46                p       407,3             2,46   \n",
       "3  28/10/2024 18:46                o          17            58,82   \n",
       "4  28/10/2024 18:46                w          15            66,67   \n",
       "\n",
       "   Error_Count  is_human  \n",
       "0            0         0  \n",
       "1            0         0  \n",
       "2            0         0  \n",
       "3            0         0  \n",
       "4            0         0  "
      ]
     },
     "execution_count": 5,
     "metadata": {},
     "output_type": "execute_result"
    }
   ],
   "source": [
    "path=r\"Data\\datasetUSB.csv\"\n",
    "\n",
    "dataset=pd.read_csv(path)\n",
    "\n",
    "dataset.head(5)"
   ]
  },
  {
   "cell_type": "code",
   "execution_count": 6,
   "metadata": {},
   "outputs": [
    {
     "data": {
      "text/html": [
       "<div>\n",
       "<style scoped>\n",
       "    .dataframe tbody tr th:only-of-type {\n",
       "        vertical-align: middle;\n",
       "    }\n",
       "\n",
       "    .dataframe tbody tr th {\n",
       "        vertical-align: top;\n",
       "    }\n",
       "\n",
       "    .dataframe thead th {\n",
       "        text-align: right;\n",
       "    }\n",
       "</style>\n",
       "<table border=\"1\" class=\"dataframe\">\n",
       "  <thead>\n",
       "    <tr style=\"text-align: right;\">\n",
       "      <th></th>\n",
       "      <th>Timestamp</th>\n",
       "      <th>Key</th>\n",
       "      <th>Interval_ms</th>\n",
       "      <th>Chars_per_Second</th>\n",
       "      <th>Error_Count</th>\n",
       "      <th>is_human</th>\n",
       "    </tr>\n",
       "  </thead>\n",
       "  <tbody>\n",
       "    <tr>\n",
       "      <th>1095</th>\n",
       "      <td>28/10/2024 18:52</td>\n",
       "      <td>[BACKSPACE]</td>\n",
       "      <td>146,15</td>\n",
       "      <td>6,84</td>\n",
       "      <td>22</td>\n",
       "      <td>1</td>\n",
       "    </tr>\n",
       "    <tr>\n",
       "      <th>1096</th>\n",
       "      <td>28/10/2024 18:52</td>\n",
       "      <td>[BACKSPACE]</td>\n",
       "      <td>141</td>\n",
       "      <td>7,09</td>\n",
       "      <td>23</td>\n",
       "      <td>1</td>\n",
       "    </tr>\n",
       "    <tr>\n",
       "      <th>1097</th>\n",
       "      <td>28/10/2024 18:52</td>\n",
       "      <td>[BACKSPACE]</td>\n",
       "      <td>141,09</td>\n",
       "      <td>7,09</td>\n",
       "      <td>24</td>\n",
       "      <td>1</td>\n",
       "    </tr>\n",
       "    <tr>\n",
       "      <th>1098</th>\n",
       "      <td>28/10/2024 18:52</td>\n",
       "      <td>,</td>\n",
       "      <td>228,54</td>\n",
       "      <td>4,38</td>\n",
       "      <td>24</td>\n",
       "      <td>1</td>\n",
       "    </tr>\n",
       "    <tr>\n",
       "      <th>1099</th>\n",
       "      <td>28/10/2024 18:52</td>\n",
       "      <td>[SPACE]</td>\n",
       "      <td>113,5</td>\n",
       "      <td>8,81</td>\n",
       "      <td>24</td>\n",
       "      <td>1</td>\n",
       "    </tr>\n",
       "  </tbody>\n",
       "</table>\n",
       "</div>"
      ],
      "text/plain": [
       "             Timestamp          Key Interval_ms Chars_per_Second  Error_Count  \\\n",
       "1095  28/10/2024 18:52  [BACKSPACE]      146,15             6,84           22   \n",
       "1096  28/10/2024 18:52  [BACKSPACE]         141             7,09           23   \n",
       "1097  28/10/2024 18:52  [BACKSPACE]      141,09             7,09           24   \n",
       "1098  28/10/2024 18:52            ,      228,54             4,38           24   \n",
       "1099  28/10/2024 18:52      [SPACE]       113,5             8,81           24   \n",
       "\n",
       "      is_human  \n",
       "1095         1  \n",
       "1096         1  \n",
       "1097         1  \n",
       "1098         1  \n",
       "1099         1  "
      ]
     },
     "execution_count": 6,
     "metadata": {},
     "output_type": "execute_result"
    }
   ],
   "source": [
    "dataset.tail(5)"
   ]
  },
  {
   "cell_type": "code",
   "execution_count": 11,
   "metadata": {},
   "outputs": [
    {
     "data": {
      "text/plain": [
       "(1100, 6)"
      ]
     },
     "execution_count": 11,
     "metadata": {},
     "output_type": "execute_result"
    }
   ],
   "source": [
    "dataset.shape\n"
   ]
  },
  {
   "cell_type": "code",
   "execution_count": 12,
   "metadata": {},
   "outputs": [
    {
     "data": {
      "text/plain": [
       "is_human\n",
       "1    600\n",
       "0    500\n",
       "Name: count, dtype: int64"
      ]
     },
     "execution_count": 12,
     "metadata": {},
     "output_type": "execute_result"
    }
   ],
   "source": [
    "dataset['is_human'].value_counts()"
   ]
  }
 ],
 "metadata": {
  "kernelspec": {
   "display_name": ".venv",
   "language": "python",
   "name": "python3"
  },
  "language_info": {
   "codemirror_mode": {
    "name": "ipython",
    "version": 3
   },
   "file_extension": ".py",
   "mimetype": "text/x-python",
   "name": "python",
   "nbconvert_exporter": "python",
   "pygments_lexer": "ipython3",
   "version": "3.8.0"
  }
 },
 "nbformat": 4,
 "nbformat_minor": 2
}
